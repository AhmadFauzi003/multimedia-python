{
 "cells": [
  {
   "cell_type": "code",
   "execution_count": null,
   "metadata": {},
   "outputs": [],
   "source": [
    "# Vidio\n",
    "\n",
    "from moviepy.editor import VideoFileClip\n",
    "\n",
    "# Memuat file video\n",
    "video = VideoFileClip('Eminem.mp4')\n",
    "\n",
    "short_video = video.subclip(0, 10)  # Mendapatkan 10 detik pertama\n",
    "short_video.write_videofile('short_result.mp4')\n",
    "\n",
    "# from moviepy.editor import concatenate_videoclips\n",
    "\n",
    "# combined_video = concatenate_videoclips([video, short_video])\n",
    "# combined_video.write_videofile('combined_result.mp4')\n",
    "\n",
    "from moviepy.editor import vfx\n",
    "\n",
    "# reversed_video = short_video.fx(vfx.time_mirror)  # Membalikkan video\n",
    "# reversed_video.write_videofile('reversed_result.mp4')\n",
    "\n",
    "sped_up_video = short_video.fx(vfx.speedx, 2)  # Mempercepat video 2x\n",
    "sped_up_video.write_videofile('sped_up_result.mp4')\n",
    "\n",
    "# Menyimpan file video\n",
    "# video.write_videofile('result.mp4')"
   ]
  },
  {
   "cell_type": "code",
   "execution_count": 8,
   "metadata": {},
   "outputs": [],
   "source": [
    "# Tkinter\n",
    "\n",
    "import tkinter as tk\n",
    "\n",
    "# Membuat jendela utama\n",
    "root = tk.Tk()\n",
    "root.title(\"Multimedia Application\")\n",
    "\n",
    "# from PIL import Image, ImageTk\n",
    "\n",
    "# Memuat gambar menggunakan Pillow\n",
    "# image = Image.open('test.jpg')\n",
    "# photo = ImageTk.PhotoImage(image)\n",
    "\n",
    "# Membuat label untuk menampilkan gambar\n",
    "# label = tk.Label(root, image=photo)\n",
    "# label.pack()\n",
    "\n",
    "from tkinter import filedialog\n",
    "from pydub import AudioSegment\n",
    "from pydub.playback import play\n",
    "\n",
    "# Definisikan fungsi untuk memutar musik\n",
    "def play_music():\n",
    "    file_path = filedialog.askopenfilename()\n",
    "    if file_path:\n",
    "        audio = AudioSegment.from_file(\"neffex.mp3\")\n",
    "        play(audio)\n",
    "\n",
    "# Membuat tombol untuk memutar musik\n",
    "play_button = tk.Button(root, text=\"Play\", command=play_music)\n",
    "play_button.pack()\n",
    "\n",
    "# Menjalankan loop acara Tkinter\n",
    "root.mainloop()"
   ]
  }
 ],
 "metadata": {
  "kernelspec": {
   "display_name": "Python 3",
   "language": "python",
   "name": "python3"
  },
  "language_info": {
   "codemirror_mode": {
    "name": "ipython",
    "version": 3
   },
   "file_extension": ".py",
   "mimetype": "text/x-python",
   "name": "python",
   "nbconvert_exporter": "python",
   "pygments_lexer": "ipython3",
   "version": "3.12.3"
  }
 },
 "nbformat": 4,
 "nbformat_minor": 2
}

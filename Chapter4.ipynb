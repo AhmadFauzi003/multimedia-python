{
 "cells": [
  {
   "cell_type": "code",
   "execution_count": 6,
   "metadata": {},
   "outputs": [],
   "source": [
    "import pygame\n",
    "pygame.init()\n",
    "\n",
    "image = pygame.image.load('Gambar/test2.png')\n",
    "sound = pygame.mixer.Sound('output_audio/result.wav')\n",
    "\n",
    "# Mengatur tampilan\n",
    "screen = pygame.display.set_mode((800, 600))\n",
    "pygame.display.set_caption(\"Simple Game\")\n",
    "\n",
    "# Loop utama permainan\n",
    "x = 0\n",
    "\n",
    "running = True\n",
    "while running:\n",
    "    for event in pygame.event.get():\n",
    "        if event.type == pygame.QUIT:\n",
    "            running = False\n",
    "\n",
    "    x += 5\n",
    "    if x > 800:\n",
    "        x = 0\n",
    "\n",
    "    # Menggambar gambar di posisi baru\n",
    "    screen.fill((0, 0, 0))\n",
    "    screen.blit(image, (x, 100))\n",
    "\n",
    "    sound.play()\n",
    "\n",
    "    # Memperbarui tampilan\n",
    "    pygame.display.flip()\n",
    "\n",
    "pygame.quit()\n",
    "\n"
   ]
  },
  {
   "cell_type": "code",
   "execution_count": 7,
   "metadata": {},
   "outputs": [
    {
     "name": "stderr",
     "output_type": "stream",
     "text": [
      "c:\\Python312\\Lib\\site-packages\\pydub\\utils.py:170: RuntimeWarning: Couldn't find ffmpeg or avconv - defaulting to ffmpeg, but may not work\n",
      "  warn(\"Couldn't find ffmpeg or avconv - defaulting to ffmpeg, but may not work\", RuntimeWarning)\n"
     ]
    }
   ],
   "source": [
    "import tkinter as tk\n",
    "from tkinter import filedialog\n",
    "from pydub import AudioSegment\n",
    "from pydub.playback import play\n",
    "\n",
    "# Membuat jendela utama\n",
    "root = tk.Tk()\n",
    "root.title(\"Music Player\")\n",
    "\n",
    "# Mendefinisikan fungsi untuk memutar musik\n",
    "def play_music():\n",
    "    file_path = filedialog.askopenfilename()\n",
    "    if file_path:\n",
    "        audio = AudioSegment.from_file(file_path)\n",
    "        play(audio)\n",
    "\n",
    "# Membuat tombol play\n",
    "play_button = tk.Button(root, text=\"Play\", command=play_music)\n",
    "play_button.pack()\n",
    "\n",
    "# Menjalankan loop acara Tkinter\n",
    "root.mainloop()"
   ]
  }
 ],
 "metadata": {
  "kernelspec": {
   "display_name": "Python 3",
   "language": "python",
   "name": "python3"
  },
  "language_info": {
   "codemirror_mode": {
    "name": "ipython",
    "version": 3
   },
   "file_extension": ".py",
   "mimetype": "text/x-python",
   "name": "python",
   "nbconvert_exporter": "python",
   "pygments_lexer": "ipython3",
   "version": "3.12.3"
  }
 },
 "nbformat": 4,
 "nbformat_minor": 2
}

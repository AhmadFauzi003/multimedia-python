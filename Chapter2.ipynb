{
 "cells": [
  {
   "cell_type": "code",
   "execution_count": null,
   "metadata": {},
   "outputs": [],
   "source": [
    "#Gambar\n",
    "\n",
    "from PIL import Image\n",
    "\n",
    "# Memuat gambar\n",
    "image = Image.open('Gambar/test.jpg')\n",
    "\n",
    "cropped_image = image.crop((10, 10, 200, 200))\n",
    "cropped_image.save('output_audio/cropped_result.jpg')\n",
    "\n",
    "resized_image = cropped_image.resize((100, 100))\n",
    "resized_image.save('outpit_audio/resized_result.jpg')\n",
    "\n",
    "\n",
    "from PIL import ImageFilter\n",
    "\n",
    "filtered_image = resized_image.filter(ImageFilter.BLUR)\n",
    "filtered_image.save('output_audio/filtered_result.jpg')\n",
    "\n",
    "# Menyimpan gambar\n",
    "image.save('output_gambar/test2_result.jpg')\n",
    "\n",
    "from PIL import ImageFilter, Image\n",
    "\n",
    "# Membuka gambar\n",
    "image = Image.open('test2.png')\n",
    "\n",
    "# Mengubah ukuran gambar\n",
    "resized_image = image.resize((100, 100))\n",
    "\n",
    "# Menambahkan efek blur\n",
    "filtered_image = resized_image.filter(ImageFilter.BLUR)\n",
    "\n",
    "# Menyimpan gambar hasil sebagai PNG tanpa perlu mengonversi mode warna\n",
    "filtered_image.save('output_gambar/test2_result.png')\n",
    "\n"
   ]
  },
  {
   "cell_type": "code",
   "execution_count": null,
   "metadata": {},
   "outputs": [],
   "source": [
    "#Audio\n",
    "\n",
    "from pydub import AudioSegment\n",
    "\n",
    "# Memuat file audio\n",
    "audio = AudioSegment.from_file('audio/neffex.mp3')\n",
    "\n",
    "clipped_audio = audio[:10000]  # Mendapatkan 10 detik pertama\n",
    "clipped_audio.export('clipped_result.mp3', format='mp3')\n",
    "\n",
    "combined_audio = audio + clipped_audio\n",
    "combined_audio.export('combined_result.mp3', format='mp3')\n",
    "\n",
    "audio.export('result.wav', format='wav')\n",
    "\n",
    "louder_audio = audio + 10  \n",
    "louder_audio.export('louder_result.mp3', format='mp3')\n",
    "\n",
    "# Menyimpan file audio\n",
    "audio.export('result.mp3', format='mp3')"
   ]
  }
 ],
 "metadata": {
  "kernelspec": {
   "display_name": "Python 3",
   "language": "python",
   "name": "python3"
  },
  "language_info": {
   "codemirror_mode": {
    "name": "ipython",
    "version": 3
   },
   "file_extension": ".py",
   "mimetype": "text/x-python",
   "name": "python",
   "nbconvert_exporter": "python",
   "pygments_lexer": "ipython3",
   "version": "3.12.3"
  }
 },
 "nbformat": 4,
 "nbformat_minor": 2
}
